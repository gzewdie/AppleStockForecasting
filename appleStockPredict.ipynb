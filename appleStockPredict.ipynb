{
 "cells": [
  {
   "cell_type": "code",
   "execution_count": 1,
   "metadata": {},
   "outputs": [],
   "source": [
    "#Source https://stackabuse.com/time-series-analysis-with-lstm-using-pythons-keras-library/ "
   ]
  },
  {
   "cell_type": "markdown",
   "metadata": {},
   "source": [
    "Time series analysis refers to the analysis of change in the trend of the data over a period of time. Time series analysis has a variety of applications. One such application is the prediction of the future value of an item based on its past values. Future stock price prediction is probably the best example of such an application. In this article, we will see how we can perform time series analysis with the help of a recurrent neural network. We will be predicting the future stock prices of the Apple Company (AAPL), based on its stock prices of the past 5 years."
   ]
  },
  {
   "cell_type": "markdown",
   "metadata": {},
   "source": [
    "\n",
    "In this Python Notebook,  I am implementing the LSTM Recurrent Neural Network to forecast apple stock market! My Good reference is [here](https://stackabuse.com/time-series-analysis-with-lstm-using-pythons-keras-library/).  The apple Stock Data is obtained from yahoo finance: [here](https://finance.yahoo.com/quote/AAPL/history?period1=1356930000&period2=1514696400&interval=1d&filter=history&frequency=1d)"
   ]
  },
  {
   "cell_type": "code",
   "execution_count": 2,
   "metadata": {},
   "outputs": [],
   "source": [
    "\n",
    "import warnings\n",
    "\n",
    "def fxn():\n",
    "    warnings.warn(\"deprecated\", DeprecationWarning)\n",
    "\n",
    "with warnings.catch_warnings():\n",
    "    warnings.simplefilter(\"ignore\")\n",
    "    fxn()"
   ]
  },
  {
   "cell_type": "code",
   "execution_count": 3,
   "metadata": {},
   "outputs": [
    {
     "name": "stderr",
     "output_type": "stream",
     "text": [
      "/nethome/gzewdie3/.local/lib/python3.6/site-packages/ipykernel_launcher.py:4: DeprecationWarning: deprecated\n",
      "  after removing the cwd from sys.path.\n"
     ]
    }
   ],
   "source": [
    "fxn()"
   ]
  },
  {
   "cell_type": "code",
   "execution_count": 4,
   "metadata": {},
   "outputs": [],
   "source": [
    "import numpy  as np\n",
    "import matplotlib.pyplot as plt\n",
    "import pandas as pd\n",
    "import time\n",
    "\n",
    "from pandas_datareader import data"
   ]
  },
  {
   "cell_type": "markdown",
   "metadata": {},
   "source": [
    "The data that we are going to use for this article can be downloaded from Yahoo Finance. \n",
    "For training our algorithm, \n",
    "we will be using the Apple stock prices from 1st January 2013 to 31 December 2017.\n",
    "For the sake of prediction, we will use the Apple stock prices for the month of January 2018.   "
   ]
  },
  {
   "cell_type": "markdown",
   "metadata": {},
   "source": [
    "The following cell downloads stock prices for apple."
   ]
  },
  {
   "cell_type": "code",
   "execution_count": 5,
   "metadata": {},
   "outputs": [],
   "source": [
    "#import external pandas_datareader library with alias of web\n",
    "import pandas_datareader as web\n",
    " \n",
    "#import datetime internal datetime module\n",
    "#datetime is a Python module\n",
    "import datetime\n",
    " \n",
    "#datetime.datetime is a data type within the datetime module\n",
    "start = datetime.datetime(2017, 9, 1)\n",
    "end = datetime.datetime(2017, 12, 31)\n",
    " \n",
    "#DataReader method name is case sensitive\n",
    "df = web.DataReader(\"aapl\", 'yahoo', start, end)\n",
    " \n",
    "#invoke to_csv for df dataframe object from \n",
    "#DataReader method in the pandas_datareader library\n",
    " \n",
    "#..\\first_yahoo_prices_to_csv_demo.csv must not\n",
    "#be open in another app, such as Excel\n",
    " \n",
    "df.to_csv('first_yahoo_prices_volumes_to_csv_demo.csv')"
   ]
  },
  {
   "cell_type": "code",
   "execution_count": 6,
   "metadata": {},
   "outputs": [],
   "source": [
    "apple_training_complete = pd.read_csv('AAPL.csv')\n",
    "apple_testing_dataJan2018=pd.read_csv('AAPL2018.csv')"
   ]
  },
  {
   "cell_type": "markdown",
   "metadata": {},
   "source": [
    "Let's now see how our data looks. Open the Apple stock price training file that contains data for five years. You will see that it contains seven columns: Date, Open, High, Low, Close, Adj Close and Volume. We will be predicting the opening stock price, therefore we are not interested in the rest of the columns."
   ]
  },
  {
   "cell_type": "code",
   "execution_count": 7,
   "metadata": {},
   "outputs": [
    {
     "data": {
      "text/html": [
       "<div>\n",
       "<style scoped>\n",
       "    .dataframe tbody tr th:only-of-type {\n",
       "        vertical-align: middle;\n",
       "    }\n",
       "\n",
       "    .dataframe tbody tr th {\n",
       "        vertical-align: top;\n",
       "    }\n",
       "\n",
       "    .dataframe thead th {\n",
       "        text-align: right;\n",
       "    }\n",
       "</style>\n",
       "<table border=\"1\" class=\"dataframe\">\n",
       "  <thead>\n",
       "    <tr style=\"text-align: right;\">\n",
       "      <th></th>\n",
       "      <th>Date</th>\n",
       "      <th>Open</th>\n",
       "      <th>High</th>\n",
       "      <th>Low</th>\n",
       "      <th>Close</th>\n",
       "      <th>Adj Close</th>\n",
       "      <th>Volume</th>\n",
       "    </tr>\n",
       "  </thead>\n",
       "  <tbody>\n",
       "    <tr>\n",
       "      <th>0</th>\n",
       "      <td>2012-12-31</td>\n",
       "      <td>72.932854</td>\n",
       "      <td>76.485718</td>\n",
       "      <td>72.714287</td>\n",
       "      <td>76.024284</td>\n",
       "      <td>66.936584</td>\n",
       "      <td>164873100</td>\n",
       "    </tr>\n",
       "    <tr>\n",
       "      <th>1</th>\n",
       "      <td>2013-01-02</td>\n",
       "      <td>79.117142</td>\n",
       "      <td>79.285713</td>\n",
       "      <td>77.375717</td>\n",
       "      <td>78.432854</td>\n",
       "      <td>69.057251</td>\n",
       "      <td>140129500</td>\n",
       "    </tr>\n",
       "    <tr>\n",
       "      <th>2</th>\n",
       "      <td>2013-01-03</td>\n",
       "      <td>78.268570</td>\n",
       "      <td>78.524284</td>\n",
       "      <td>77.285713</td>\n",
       "      <td>77.442856</td>\n",
       "      <td>68.185600</td>\n",
       "      <td>88241300</td>\n",
       "    </tr>\n",
       "    <tr>\n",
       "      <th>3</th>\n",
       "      <td>2013-01-04</td>\n",
       "      <td>76.709999</td>\n",
       "      <td>76.947144</td>\n",
       "      <td>75.118568</td>\n",
       "      <td>75.285713</td>\n",
       "      <td>66.286301</td>\n",
       "      <td>148583400</td>\n",
       "    </tr>\n",
       "    <tr>\n",
       "      <th>4</th>\n",
       "      <td>2013-01-07</td>\n",
       "      <td>74.571426</td>\n",
       "      <td>75.614288</td>\n",
       "      <td>73.599998</td>\n",
       "      <td>74.842857</td>\n",
       "      <td>65.896370</td>\n",
       "      <td>121039100</td>\n",
       "    </tr>\n",
       "  </tbody>\n",
       "</table>\n",
       "</div>"
      ],
      "text/plain": [
       "         Date       Open       High        Low      Close  Adj Close  \\\n",
       "0  2012-12-31  72.932854  76.485718  72.714287  76.024284  66.936584   \n",
       "1  2013-01-02  79.117142  79.285713  77.375717  78.432854  69.057251   \n",
       "2  2013-01-03  78.268570  78.524284  77.285713  77.442856  68.185600   \n",
       "3  2013-01-04  76.709999  76.947144  75.118568  75.285713  66.286301   \n",
       "4  2013-01-07  74.571426  75.614288  73.599998  74.842857  65.896370   \n",
       "\n",
       "      Volume  \n",
       "0  164873100  \n",
       "1  140129500  \n",
       "2   88241300  \n",
       "3  148583400  \n",
       "4  121039100  "
      ]
     },
     "execution_count": 7,
     "metadata": {},
     "output_type": "execute_result"
    }
   ],
   "source": [
    "apple_training_complete.head()"
   ]
  },
  {
   "cell_type": "code",
   "execution_count": 8,
   "metadata": {},
   "outputs": [
    {
     "data": {
      "text/html": [
       "<div>\n",
       "<style scoped>\n",
       "    .dataframe tbody tr th:only-of-type {\n",
       "        vertical-align: middle;\n",
       "    }\n",
       "\n",
       "    .dataframe tbody tr th {\n",
       "        vertical-align: top;\n",
       "    }\n",
       "\n",
       "    .dataframe thead th {\n",
       "        text-align: right;\n",
       "    }\n",
       "</style>\n",
       "<table border=\"1\" class=\"dataframe\">\n",
       "  <thead>\n",
       "    <tr style=\"text-align: right;\">\n",
       "      <th></th>\n",
       "      <th>Date</th>\n",
       "      <th>Open</th>\n",
       "      <th>High</th>\n",
       "      <th>Low</th>\n",
       "      <th>Close</th>\n",
       "      <th>Adj Close</th>\n",
       "      <th>Volume</th>\n",
       "    </tr>\n",
       "  </thead>\n",
       "  <tbody>\n",
       "    <tr>\n",
       "      <th>1255</th>\n",
       "      <td>2017-12-22</td>\n",
       "      <td>174.679993</td>\n",
       "      <td>175.419998</td>\n",
       "      <td>174.500000</td>\n",
       "      <td>175.009995</td>\n",
       "      <td>170.379120</td>\n",
       "      <td>16349400</td>\n",
       "    </tr>\n",
       "    <tr>\n",
       "      <th>1256</th>\n",
       "      <td>2017-12-26</td>\n",
       "      <td>170.800003</td>\n",
       "      <td>171.470001</td>\n",
       "      <td>169.679993</td>\n",
       "      <td>170.570007</td>\n",
       "      <td>166.056595</td>\n",
       "      <td>33185500</td>\n",
       "    </tr>\n",
       "    <tr>\n",
       "      <th>1257</th>\n",
       "      <td>2017-12-27</td>\n",
       "      <td>170.100006</td>\n",
       "      <td>170.779999</td>\n",
       "      <td>169.710007</td>\n",
       "      <td>170.600006</td>\n",
       "      <td>166.085815</td>\n",
       "      <td>21498200</td>\n",
       "    </tr>\n",
       "    <tr>\n",
       "      <th>1258</th>\n",
       "      <td>2017-12-28</td>\n",
       "      <td>171.000000</td>\n",
       "      <td>171.850006</td>\n",
       "      <td>170.479996</td>\n",
       "      <td>171.080002</td>\n",
       "      <td>166.553101</td>\n",
       "      <td>16480200</td>\n",
       "    </tr>\n",
       "    <tr>\n",
       "      <th>1259</th>\n",
       "      <td>2017-12-29</td>\n",
       "      <td>170.520004</td>\n",
       "      <td>170.589996</td>\n",
       "      <td>169.220001</td>\n",
       "      <td>169.229996</td>\n",
       "      <td>164.752060</td>\n",
       "      <td>25999900</td>\n",
       "    </tr>\n",
       "  </tbody>\n",
       "</table>\n",
       "</div>"
      ],
      "text/plain": [
       "            Date        Open        High         Low       Close   Adj Close  \\\n",
       "1255  2017-12-22  174.679993  175.419998  174.500000  175.009995  170.379120   \n",
       "1256  2017-12-26  170.800003  171.470001  169.679993  170.570007  166.056595   \n",
       "1257  2017-12-27  170.100006  170.779999  169.710007  170.600006  166.085815   \n",
       "1258  2017-12-28  171.000000  171.850006  170.479996  171.080002  166.553101   \n",
       "1259  2017-12-29  170.520004  170.589996  169.220001  169.229996  164.752060   \n",
       "\n",
       "        Volume  \n",
       "1255  16349400  \n",
       "1256  33185500  \n",
       "1257  21498200  \n",
       "1258  16480200  \n",
       "1259  25999900  "
      ]
     },
     "execution_count": 8,
     "metadata": {},
     "output_type": "execute_result"
    }
   ],
   "source": [
    "apple_training_complete.tail()"
   ]
  },
  {
   "cell_type": "code",
   "execution_count": 9,
   "metadata": {},
   "outputs": [
    {
     "data": {
      "text/html": [
       "<div>\n",
       "<style scoped>\n",
       "    .dataframe tbody tr th:only-of-type {\n",
       "        vertical-align: middle;\n",
       "    }\n",
       "\n",
       "    .dataframe tbody tr th {\n",
       "        vertical-align: top;\n",
       "    }\n",
       "\n",
       "    .dataframe thead th {\n",
       "        text-align: right;\n",
       "    }\n",
       "</style>\n",
       "<table border=\"1\" class=\"dataframe\">\n",
       "  <thead>\n",
       "    <tr style=\"text-align: right;\">\n",
       "      <th></th>\n",
       "      <th>Date</th>\n",
       "      <th>Open</th>\n",
       "      <th>High</th>\n",
       "      <th>Low</th>\n",
       "      <th>Close</th>\n",
       "      <th>Adj Close</th>\n",
       "      <th>Volume</th>\n",
       "    </tr>\n",
       "  </thead>\n",
       "  <tbody>\n",
       "    <tr>\n",
       "      <th>0</th>\n",
       "      <td>2018-01-02</td>\n",
       "      <td>170.160004</td>\n",
       "      <td>172.300003</td>\n",
       "      <td>169.259995</td>\n",
       "      <td>172.259995</td>\n",
       "      <td>167.701889</td>\n",
       "      <td>25555900</td>\n",
       "    </tr>\n",
       "    <tr>\n",
       "      <th>1</th>\n",
       "      <td>2018-01-03</td>\n",
       "      <td>172.529999</td>\n",
       "      <td>174.550003</td>\n",
       "      <td>171.960007</td>\n",
       "      <td>172.229996</td>\n",
       "      <td>167.672668</td>\n",
       "      <td>29517900</td>\n",
       "    </tr>\n",
       "    <tr>\n",
       "      <th>2</th>\n",
       "      <td>2018-01-04</td>\n",
       "      <td>172.539993</td>\n",
       "      <td>173.470001</td>\n",
       "      <td>172.080002</td>\n",
       "      <td>173.029999</td>\n",
       "      <td>168.451508</td>\n",
       "      <td>22434600</td>\n",
       "    </tr>\n",
       "    <tr>\n",
       "      <th>3</th>\n",
       "      <td>2018-01-05</td>\n",
       "      <td>173.440002</td>\n",
       "      <td>175.369995</td>\n",
       "      <td>173.050003</td>\n",
       "      <td>175.000000</td>\n",
       "      <td>170.369385</td>\n",
       "      <td>23660000</td>\n",
       "    </tr>\n",
       "    <tr>\n",
       "      <th>4</th>\n",
       "      <td>2018-01-08</td>\n",
       "      <td>174.350006</td>\n",
       "      <td>175.610001</td>\n",
       "      <td>173.929993</td>\n",
       "      <td>174.350006</td>\n",
       "      <td>169.736588</td>\n",
       "      <td>20567800</td>\n",
       "    </tr>\n",
       "  </tbody>\n",
       "</table>\n",
       "</div>"
      ],
      "text/plain": [
       "         Date        Open        High         Low       Close   Adj Close  \\\n",
       "0  2018-01-02  170.160004  172.300003  169.259995  172.259995  167.701889   \n",
       "1  2018-01-03  172.529999  174.550003  171.960007  172.229996  167.672668   \n",
       "2  2018-01-04  172.539993  173.470001  172.080002  173.029999  168.451508   \n",
       "3  2018-01-05  173.440002  175.369995  173.050003  175.000000  170.369385   \n",
       "4  2018-01-08  174.350006  175.610001  173.929993  174.350006  169.736588   \n",
       "\n",
       "     Volume  \n",
       "0  25555900  \n",
       "1  29517900  \n",
       "2  22434600  \n",
       "3  23660000  \n",
       "4  20567800  "
      ]
     },
     "execution_count": 9,
     "metadata": {},
     "output_type": "execute_result"
    }
   ],
   "source": [
    "apple_testing_dataJan2018.head()"
   ]
  },
  {
   "cell_type": "code",
   "execution_count": 10,
   "metadata": {},
   "outputs": [
    {
     "data": {
      "text/plain": [
       "(1260, 7)"
      ]
     },
     "execution_count": 10,
     "metadata": {},
     "output_type": "execute_result"
    }
   ],
   "source": [
    "apple_training_complete.shape"
   ]
  },
  {
   "cell_type": "code",
   "execution_count": 11,
   "metadata": {},
   "outputs": [
    {
     "data": {
      "text/html": [
       "<div>\n",
       "<style scoped>\n",
       "    .dataframe tbody tr th:only-of-type {\n",
       "        vertical-align: middle;\n",
       "    }\n",
       "\n",
       "    .dataframe tbody tr th {\n",
       "        vertical-align: top;\n",
       "    }\n",
       "\n",
       "    .dataframe thead th {\n",
       "        text-align: right;\n",
       "    }\n",
       "</style>\n",
       "<table border=\"1\" class=\"dataframe\">\n",
       "  <thead>\n",
       "    <tr style=\"text-align: right;\">\n",
       "      <th></th>\n",
       "      <th>Open</th>\n",
       "      <th>High</th>\n",
       "      <th>Low</th>\n",
       "      <th>Close</th>\n",
       "      <th>Adj Close</th>\n",
       "      <th>Volume</th>\n",
       "    </tr>\n",
       "  </thead>\n",
       "  <tbody>\n",
       "    <tr>\n",
       "      <th>count</th>\n",
       "      <td>1260.000000</td>\n",
       "      <td>1260.000000</td>\n",
       "      <td>1260.000000</td>\n",
       "      <td>1260.000000</td>\n",
       "      <td>1260.000000</td>\n",
       "      <td>1.260000e+03</td>\n",
       "    </tr>\n",
       "    <tr>\n",
       "      <th>mean</th>\n",
       "      <td>106.926082</td>\n",
       "      <td>107.805451</td>\n",
       "      <td>106.020870</td>\n",
       "      <td>106.936653</td>\n",
       "      <td>100.136660</td>\n",
       "      <td>5.654290e+07</td>\n",
       "    </tr>\n",
       "    <tr>\n",
       "      <th>std</th>\n",
       "      <td>29.634056</td>\n",
       "      <td>29.750966</td>\n",
       "      <td>29.484063</td>\n",
       "      <td>29.651850</td>\n",
       "      <td>30.183764</td>\n",
       "      <td>3.745789e+07</td>\n",
       "    </tr>\n",
       "    <tr>\n",
       "      <th>min</th>\n",
       "      <td>55.424286</td>\n",
       "      <td>57.085712</td>\n",
       "      <td>55.014286</td>\n",
       "      <td>55.790001</td>\n",
       "      <td>49.407326</td>\n",
       "      <td>1.147590e+07</td>\n",
       "    </tr>\n",
       "    <tr>\n",
       "      <th>25%</th>\n",
       "      <td>79.578216</td>\n",
       "      <td>80.328572</td>\n",
       "      <td>79.085354</td>\n",
       "      <td>79.580713</td>\n",
       "      <td>71.828089</td>\n",
       "      <td>3.042642e+07</td>\n",
       "    </tr>\n",
       "    <tr>\n",
       "      <th>50%</th>\n",
       "      <td>107.859996</td>\n",
       "      <td>108.860000</td>\n",
       "      <td>106.759998</td>\n",
       "      <td>107.860001</td>\n",
       "      <td>101.000915</td>\n",
       "      <td>4.649810e+07</td>\n",
       "    </tr>\n",
       "    <tr>\n",
       "      <th>75%</th>\n",
       "      <td>125.972498</td>\n",
       "      <td>126.894998</td>\n",
       "      <td>124.887501</td>\n",
       "      <td>125.877503</td>\n",
       "      <td>116.791454</td>\n",
       "      <td>7.058118e+07</td>\n",
       "    </tr>\n",
       "    <tr>\n",
       "      <th>max</th>\n",
       "      <td>175.110001</td>\n",
       "      <td>177.199997</td>\n",
       "      <td>174.860001</td>\n",
       "      <td>176.419998</td>\n",
       "      <td>171.751816</td>\n",
       "      <td>3.652131e+08</td>\n",
       "    </tr>\n",
       "  </tbody>\n",
       "</table>\n",
       "</div>"
      ],
      "text/plain": [
       "              Open         High          Low        Close    Adj Close  \\\n",
       "count  1260.000000  1260.000000  1260.000000  1260.000000  1260.000000   \n",
       "mean    106.926082   107.805451   106.020870   106.936653   100.136660   \n",
       "std      29.634056    29.750966    29.484063    29.651850    30.183764   \n",
       "min      55.424286    57.085712    55.014286    55.790001    49.407326   \n",
       "25%      79.578216    80.328572    79.085354    79.580713    71.828089   \n",
       "50%     107.859996   108.860000   106.759998   107.860001   101.000915   \n",
       "75%     125.972498   126.894998   124.887501   125.877503   116.791454   \n",
       "max     175.110001   177.199997   174.860001   176.419998   171.751816   \n",
       "\n",
       "             Volume  \n",
       "count  1.260000e+03  \n",
       "mean   5.654290e+07  \n",
       "std    3.745789e+07  \n",
       "min    1.147590e+07  \n",
       "25%    3.042642e+07  \n",
       "50%    4.649810e+07  \n",
       "75%    7.058118e+07  \n",
       "max    3.652131e+08  "
      ]
     },
     "execution_count": 11,
     "metadata": {},
     "output_type": "execute_result"
    }
   ],
   "source": [
    "apple_training_complete.describe()"
   ]
  },
  {
   "cell_type": "markdown",
   "metadata": {},
   "source": [
    "As we said earlier, we are only interested in the opening price of the stock. Therefore, we will filter all the data from our training set and will retain only the values for the Open column"
   ]
  },
  {
   "cell_type": "code",
   "execution_count": 12,
   "metadata": {},
   "outputs": [],
   "source": [
    "apple_training_processed = apple_training_complete.iloc[:, 1:2].values"
   ]
  },
  {
   "cell_type": "code",
   "execution_count": 13,
   "metadata": {},
   "outputs": [
    {
     "data": {
      "image/png": "[encoded data removed]",
      "text/plain": [
       "<Figure size 864x432 with 1 Axes>"
      ]
     },
     "metadata": {
      "needs_background": "light"
     },
     "output_type": "display_data"
    }
   ],
   "source": [
    "plt.figure(figsize=(12,6))\n",
    "plt.plot(apple_training_processed,'r')\n",
    "plt.title('Apple Stock [open]')\n",
    "plt.show()"
   ]
  },
  {
   "cell_type": "markdown",
   "metadata": {},
   "source": [
    "You can see in the above figure that the trend is highly non-linear and it is very difficult to capture the trend using this information. This is where the power of LSTM can be utilized. LSTM (Long Short-Term Memory network) is a type of recurrent neural network capable of remembering the past information and while predicting the future values, it takes this past information into account."
   ]
  },
  {
   "cell_type": "markdown",
   "metadata": {},
   "source": [
    "# Data Normalization"
   ]
  },
  {
   "cell_type": "markdown",
   "metadata": {},
   "source": [
    "Whenever we use a neural network, we should normalize or scale our data. \n",
    "We will use MinMaxScaler class from the sklear.preprocessing library to scale our \n",
    "data between 0 and 1. The feature_range parameter is used to specify the range of the scaled data. \n",
    "Execute the following script:\n",
    "\n"
   ]
  },
  {
   "cell_type": "code",
   "execution_count": 14,
   "metadata": {},
   "outputs": [],
   "source": [
    "from sklearn.preprocessing import MinMaxScaler\n",
    "scaler = MinMaxScaler(feature_range = (0, 1))\n",
    "\n",
    "apple_training_scaled = scaler.fit_transform(apple_training_processed)"
   ]
  },
  {
   "cell_type": "code",
   "execution_count": 15,
   "metadata": {},
   "outputs": [
    {
     "data": {
      "image/png": "[encoded data removed]",
      "text/plain": [
       "<Figure size 864x432 with 1 Axes>"
      ]
     },
     "metadata": {
      "needs_background": "light"
     },
     "output_type": "display_data"
    }
   ],
   "source": [
    "plt.figure(figsize=(12,6))\n",
    "plt.plot(apple_training_scaled,'r')\n",
    "plt.title('Scaled')\n",
    "plt.show()"
   ]
  },
  {
   "cell_type": "markdown",
   "metadata": {},
   "source": [
    "# Convert Training Data to Right Shape\n"
   ]
  },
  {
   "cell_type": "markdown",
   "metadata": {},
   "source": [
    "As explained earlier, in a time series problems, we have to predict a value at time T, based on the data from days T-N where N can be any number of steps. In this article, we are going to predict the opening stock price of the data based on the opening stock prices for the past 60 days. I have tried and tested different numbers and found that the best results are obtained when past 60 time steps are used. You can try different numbers and see how your algorithm performs."
   ]
  },
  {
   "cell_type": "markdown",
   "metadata": {},
   "source": [
    "Our feature set should contain the opening stock price values for the past 60 days while the label or dependent variable should be the stock price at the 61st day. Execute the following script to create feature and label set."
   ]
  },
  {
   "cell_type": "code",
   "execution_count": 16,
   "metadata": {},
   "outputs": [],
   "source": [
    "features_set = []\n",
    "labels = []\n",
    "for i in range(60, 1260):\n",
    "    #print(i)\n",
    "    features_set.append(apple_training_scaled[i-60:i, 0])\n",
    "    labels.append(apple_training_scaled[i, 0])\n",
    "#     print(features_set)\n",
    "#     print(labels)\n",
    "#     time.sleep(30) # seconds"
   ]
  },
  {
   "cell_type": "code",
   "execution_count": 17,
   "metadata": {},
   "outputs": [
    {
     "data": {
      "text/plain": [
       "(1200, 60)"
      ]
     },
     "execution_count": 17,
     "metadata": {},
     "output_type": "execute_result"
    }
   ],
   "source": [
    "np.shape(features_set)"
   ]
  },
  {
   "cell_type": "markdown",
   "metadata": {},
   "source": [
    "In the script above we create two lists: feature_set and labels. There are 1260 records in the training data. We execute a loop that starts from 61st record and stores all the previous 60 records to the feature_set list. The 61st record is stored in the labels list.\n",
    "\n",
    "We need to convert both the feature_set and the labels list to the numpy array before we can use it for training. Execute the following script:\n",
    "\n"
   ]
  },
  {
   "cell_type": "code",
   "execution_count": 18,
   "metadata": {},
   "outputs": [],
   "source": [
    "features_set, labels = np.array(features_set), np.array(labels)"
   ]
  },
  {
   "cell_type": "markdown",
   "metadata": {},
   "source": [
    "In order to train LSTM on our data, we need to convert our data into the shape accepted by the LSTM. We need to convert our data into three-dimensional format. The first dimension is the number of records or rows in the dataset which is 1260 in our case. The second dimension is the number of time steps which is 60 while the last dimension is the number of indicators. Since we are only using one feature, i.e Open, the number of indicators will be one. Execute the following script:"
   ]
  },
  {
   "cell_type": "code",
   "execution_count": 19,
   "metadata": {},
   "outputs": [],
   "source": [
    "features_set = np.reshape(features_set, (features_set.shape[0], features_set.shape[1], 1))"
   ]
  },
  {
   "cell_type": "code",
   "execution_count": 20,
   "metadata": {},
   "outputs": [
    {
     "data": {
      "text/plain": [
       "(1200, 60, 1)"
      ]
     },
     "execution_count": 20,
     "metadata": {},
     "output_type": "execute_result"
    }
   ],
   "source": [
    "features_set.shape"
   ]
  },
  {
   "cell_type": "markdown",
   "metadata": {},
   "source": [
    "# Training The LSTM\n"
   ]
  },
  {
   "cell_type": "markdown",
   "metadata": {},
   "source": [
    "We have preprocessed our data and have converted it into the desired format.\n",
    "Now is the time to create our LSTM. The LSTM model that we are going to create will \n",
    "be a sequential model with multiple layers. We will add four LSTM layers to our model \n",
    "followed by a dense layer that predicts the future stock price."
   ]
  },
  {
   "cell_type": "code",
   "execution_count": 21,
   "metadata": {},
   "outputs": [
    {
     "name": "stderr",
     "output_type": "stream",
     "text": [
      "Using TensorFlow backend.\n"
     ]
    }
   ],
   "source": [
    "# Let's first import the libraries that we are going to need in order to create our model:   \n",
    "from keras.models import Sequential\n",
    "from keras.layers import Dense\n",
    "from keras.layers import LSTM\n",
    "from keras.layers import Dropout"
   ]
  },
  {
   "cell_type": "markdown",
   "metadata": {},
   "source": [
    "In the script above we imported the Sequential class from keras.models library and Dense, LSTM, and Dropout classes from keras.layers library."
   ]
  },
  {
   "cell_type": "markdown",
   "metadata": {},
   "source": [
    "As a first step, we need to instantiate the Sequential class. This will be our model class and we will add LSTM, Dropout and Dense layers to this model. Execute the following script"
   ]
  },
  {
   "cell_type": "code",
   "execution_count": 22,
   "metadata": {},
   "outputs": [],
   "source": [
    "model = Sequential()"
   ]
  },
  {
   "cell_type": "markdown",
   "metadata": {},
   "source": [
    "# Creating LSTM and Dropout Layers"
   ]
  },
  {
   "cell_type": "markdown",
   "metadata": {},
   "source": [
    "Let's add LSTM layer to the model that we just created. Execute the following script to do so:"
   ]
  },
  {
   "cell_type": "code",
   "execution_count": 23,
   "metadata": {},
   "outputs": [],
   "source": [
    "model.add(LSTM(units=50, return_sequences=True, input_shape=(features_set.shape[1], 1)))"
   ]
  },
  {
   "cell_type": "markdown",
   "metadata": {},
   "source": [
    "To add a layer to the sequential model, the add method is used. Inside the add method, we passed our LSTM layer. The first parameter to the LSTM layer is the number of neurons or nodes that we want in the layer. The second parameter is return_sequences, which is set to true since we will add more layers to the model. The first parameter to the input_shape is the number of time steps while the last parameter is the number of indicators."
   ]
  },
  {
   "cell_type": "markdown",
   "metadata": {},
   "source": [
    "Let's now add a dropout layer to our model. Dropout layer is added to avoid over-fitting, which is a phenomenon where a machine learning model performs better on the training data compared to the test data. \n",
    "Execute the following script to add dropout layer."
   ]
  },
  {
   "cell_type": "code",
   "execution_count": 24,
   "metadata": {},
   "outputs": [],
   "source": [
    "model.add(Dropout(0.2))"
   ]
  },
  {
   "cell_type": "markdown",
   "metadata": {},
   "source": [
    "Let's add three more LSTM and dropout layers to our model. Run the following script."
   ]
  },
  {
   "cell_type": "code",
   "execution_count": 25,
   "metadata": {},
   "outputs": [],
   "source": [
    "model.add(LSTM(units=50, return_sequences=True))\n",
    "model.add(Dropout(0.2))\n",
    "\n",
    "model.add(LSTM(units=50, return_sequences=True))\n",
    "model.add(Dropout(0.2))\n",
    "\n",
    "model.add(LSTM(units=50))\n",
    "model.add(Dropout(0.2))"
   ]
  },
  {
   "cell_type": "markdown",
   "metadata": {},
   "source": [
    "# Creating Dense Layer\n"
   ]
  },
  {
   "cell_type": "markdown",
   "metadata": {},
   "source": [
    "To make our model more robust, we add a dense layer at the end of the model. The number of neurons in the dense layer will be set to 1 since we want to predict a single value in the output."
   ]
  },
  {
   "cell_type": "code",
   "execution_count": 26,
   "metadata": {},
   "outputs": [],
   "source": [
    "model.add(Dense(units = 1))"
   ]
  },
  {
   "cell_type": "markdown",
   "metadata": {},
   "source": [
    "# Model Compilation"
   ]
  },
  {
   "cell_type": "markdown",
   "metadata": {},
   "source": [
    "Finally, we need to compile our LSTM before we can train it on the training data. The following script compiles the our model."
   ]
  },
  {
   "cell_type": "code",
   "execution_count": 27,
   "metadata": {},
   "outputs": [],
   "source": [
    "model.compile(optimizer = 'adam', loss = 'mean_squared_error')"
   ]
  },
  {
   "cell_type": "markdown",
   "metadata": {},
   "source": [
    "We call the compile method on the Sequential model object which is \"model\" \n",
    "in our case. We use the mean squared error as loss function and to reduce the \n",
    "loss or to optimize the algorithm, we use the adam optimizer."
   ]
  },
  {
   "cell_type": "markdown",
   "metadata": {},
   "source": [
    "# Algorithm Training"
   ]
  },
  {
   "cell_type": "markdown",
   "metadata": {},
   "source": [
    "Now is the time to train the model that we defined in the previous few steps. To do so, \n",
    "we call the fit method on the model and pass it our training features and labels as shown below:"
   ]
  },
  {
   "cell_type": "code",
   "execution_count": 28,
   "metadata": {},
   "outputs": [
    {
     "name": "stdout",
     "output_type": "stream",
     "text": [
      "Train on 1152 samples, validate on 48 samples\n",
      "Epoch 1/100\n",
      "1152/1152 [==============================] - 3s 3ms/step - loss: 0.0329 - val_loss: 0.0072\n",
      "Epoch 2/100\n",
      "1152/1152 [==============================] - 2s 1ms/step - loss: 0.0049 - val_loss: 0.0040\n",
      "Epoch 3/100\n",
      "1152/1152 [==============================] - 2s 2ms/step - loss: 0.0044 - val_loss: 0.0062\n",
      "Epoch 4/100\n",
      "1152/1152 [==============================] - 2s 2ms/step - loss: 0.0043 - val_loss: 0.0118\n",
      "Epoch 5/100\n",
      "1152/1152 [==============================] - 2s 1ms/step - loss: 0.0040 - val_loss: 0.0088\n",
      "Epoch 6/100\n",
      "1152/1152 [==============================] - 2s 2ms/step - loss: 0.0038 - val_loss: 0.0050\n",
      "Epoch 7/100\n",
      "1152/1152 [==============================] - 2s 1ms/step - loss: 0.0037 - val_loss: 0.0136\n",
      "Epoch 8/100\n",
      "1152/1152 [==============================] - 2s 1ms/step - loss: 0.0036 - val_loss: 0.0091\n",
      "Epoch 9/100\n",
      "1152/1152 [==============================] - 2s 1ms/step - loss: 0.0031 - val_loss: 0.0020\n",
      "Epoch 10/100\n",
      "1152/1152 [==============================] - 2s 1ms/step - loss: 0.0033 - val_loss: 0.0028\n",
      "Epoch 11/100\n",
      "1152/1152 [==============================] - 2s 1ms/step - loss: 0.0044 - val_loss: 0.0043\n",
      "Epoch 12/100\n",
      "1152/1152 [==============================] - 2s 1ms/step - loss: 0.0034 - val_loss: 0.0018\n",
      "Epoch 13/100\n",
      "1152/1152 [==============================] - 2s 1ms/step - loss: 0.0031 - val_loss: 0.0020\n",
      "Epoch 14/100\n",
      "1152/1152 [==============================] - 2s 1ms/step - loss: 0.0030 - val_loss: 0.0053\n",
      "Epoch 15/100\n",
      "1152/1152 [==============================] - 2s 1ms/step - loss: 0.0031 - val_loss: 0.0059\n",
      "Epoch 16/100\n",
      "1152/1152 [==============================] - 2s 1ms/step - loss: 0.0029 - val_loss: 0.0039\n",
      "Epoch 17/100\n",
      "1152/1152 [==============================] - 2s 1ms/step - loss: 0.0032 - val_loss: 0.0059\n",
      "Epoch 18/100\n",
      "1152/1152 [==============================] - 2s 1ms/step - loss: 0.0029 - val_loss: 0.0063\n",
      "Epoch 19/100\n",
      "1152/1152 [==============================] - 2s 1ms/step - loss: 0.0027 - val_loss: 0.0020\n",
      "Epoch 20/100\n",
      "1152/1152 [==============================] - 2s 2ms/step - loss: 0.0025 - val_loss: 0.0017\n",
      "Epoch 21/100\n",
      "1152/1152 [==============================] - 2s 2ms/step - loss: 0.0025 - val_loss: 0.0078\n",
      "Epoch 22/100\n",
      "1152/1152 [==============================] - 2s 2ms/step - loss: 0.0024 - val_loss: 0.0042\n",
      "Epoch 23/100\n",
      "1152/1152 [==============================] - 2s 2ms/step - loss: 0.0024 - val_loss: 0.0017\n",
      "Epoch 24/100\n",
      "1152/1152 [==============================] - 2s 2ms/step - loss: 0.0026 - val_loss: 0.0039\n",
      "Epoch 25/100\n",
      "1152/1152 [==============================] - 2s 1ms/step - loss: 0.0021 - val_loss: 0.0033\n",
      "Epoch 26/100\n",
      "1152/1152 [==============================] - 2s 1ms/step - loss: 0.0023 - val_loss: 0.0035\n",
      "Epoch 27/100\n",
      "1152/1152 [==============================] - 2s 2ms/step - loss: 0.0021 - val_loss: 0.0018\n",
      "Epoch 28/100\n",
      "1152/1152 [==============================] - 2s 2ms/step - loss: 0.0023 - val_loss: 0.0036\n",
      "Epoch 29/100\n",
      "1152/1152 [==============================] - 2s 1ms/step - loss: 0.0024 - val_loss: 0.0039\n",
      "Epoch 30/100\n",
      "1152/1152 [==============================] - 2s 2ms/step - loss: 0.0023 - val_loss: 0.0044\n",
      "Epoch 31/100\n",
      "1152/1152 [==============================] - 2s 1ms/step - loss: 0.0021 - val_loss: 0.0018\n",
      "Epoch 32/100\n",
      "1152/1152 [==============================] - 2s 1ms/step - loss: 0.0020 - val_loss: 0.0041\n",
      "Epoch 33/100\n",
      "1152/1152 [==============================] - 2s 2ms/step - loss: 0.0019 - val_loss: 0.0022\n",
      "Epoch 34/100\n",
      "1152/1152 [==============================] - 2s 1ms/step - loss: 0.0020 - val_loss: 0.0038\n",
      "Epoch 35/100\n",
      "1152/1152 [==============================] - 2s 2ms/step - loss: 0.0019 - val_loss: 0.0057\n",
      "Epoch 36/100\n",
      "1152/1152 [==============================] - 2s 1ms/step - loss: 0.0023 - val_loss: 0.0015\n",
      "Epoch 37/100\n",
      "1152/1152 [==============================] - 2s 2ms/step - loss: 0.0020 - val_loss: 0.0016\n",
      "Epoch 38/100\n",
      "1152/1152 [==============================] - 2s 2ms/step - loss: 0.0019 - val_loss: 0.0020\n",
      "Epoch 39/100\n",
      "1152/1152 [==============================] - 2s 2ms/step - loss: 0.0019 - val_loss: 0.0031\n",
      "Epoch 40/100\n",
      "1152/1152 [==============================] - 2s 1ms/step - loss: 0.0023 - val_loss: 0.0020\n",
      "Epoch 41/100\n",
      "1152/1152 [==============================] - 2s 1ms/step - loss: 0.0021 - val_loss: 0.0027\n",
      "Epoch 42/100\n",
      "1152/1152 [==============================] - 2s 2ms/step - loss: 0.0017 - val_loss: 0.0020\n",
      "Epoch 43/100\n",
      "1152/1152 [==============================] - 2s 1ms/step - loss: 0.0016 - val_loss: 0.0016\n",
      "Epoch 44/100\n",
      "1152/1152 [==============================] - 2s 1ms/step - loss: 0.0020 - val_loss: 0.0077\n",
      "Epoch 45/100\n",
      "1152/1152 [==============================] - 2s 1ms/step - loss: 0.0017 - val_loss: 0.0018\n",
      "Epoch 46/100\n",
      "1152/1152 [==============================] - 2s 2ms/step - loss: 0.0016 - val_loss: 0.0018\n",
      "Epoch 47/100\n",
      "1152/1152 [==============================] - 2s 2ms/step - loss: 0.0017 - val_loss: 0.0038\n",
      "Epoch 48/100\n",
      "1152/1152 [==============================] - 2s 2ms/step - loss: 0.0017 - val_loss: 0.0025\n",
      "Epoch 49/100\n",
      "1152/1152 [==============================] - 2s 1ms/step - loss: 0.0016 - val_loss: 0.0015\n",
      "Epoch 50/100\n",
      "1152/1152 [==============================] - 2s 2ms/step - loss: 0.0015 - val_loss: 0.0018\n",
      "Epoch 51/100\n",
      "1152/1152 [==============================] - 2s 2ms/step - loss: 0.0017 - val_loss: 0.0015\n",
      "Epoch 52/100\n",
      "1152/1152 [==============================] - 2s 2ms/step - loss: 0.0016 - val_loss: 0.0019\n",
      "Epoch 53/100\n",
      "1152/1152 [==============================] - 2s 1ms/step - loss: 0.0015 - val_loss: 0.0014\n",
      "Epoch 54/100\n",
      "1152/1152 [==============================] - 2s 1ms/step - loss: 0.0015 - val_loss: 0.0018\n",
      "Epoch 55/100\n",
      "1152/1152 [==============================] - 2s 1ms/step - loss: 0.0014 - val_loss: 0.0014\n",
      "Epoch 56/100\n",
      "1152/1152 [==============================] - 2s 2ms/step - loss: 0.0014 - val_loss: 0.0020\n",
      "Epoch 57/100\n",
      "1152/1152 [==============================] - 2s 1ms/step - loss: 0.0014 - val_loss: 0.0014\n",
      "Epoch 58/100\n",
      "1152/1152 [==============================] - 2s 1ms/step - loss: 0.0015 - val_loss: 0.0021\n",
      "Epoch 59/100\n",
      "1152/1152 [==============================] - 2s 1ms/step - loss: 0.0016 - val_loss: 0.0017\n",
      "Epoch 60/100\n",
      "1152/1152 [==============================] - 2s 2ms/step - loss: 0.0014 - val_loss: 0.0012\n",
      "Epoch 61/100\n",
      "1152/1152 [==============================] - 2s 1ms/step - loss: 0.0017 - val_loss: 0.0028\n",
      "Epoch 62/100\n",
      "1152/1152 [==============================] - 2s 1ms/step - loss: 0.0013 - val_loss: 0.0044\n",
      "Epoch 63/100\n",
      "1152/1152 [==============================] - 2s 1ms/step - loss: 0.0014 - val_loss: 0.0023\n",
      "Epoch 64/100\n",
      "1152/1152 [==============================] - 2s 1ms/step - loss: 0.0014 - val_loss: 0.0033\n",
      "Epoch 65/100\n",
      "1152/1152 [==============================] - 2s 1ms/step - loss: 0.0013 - val_loss: 0.0014\n",
      "Epoch 66/100\n",
      "1152/1152 [==============================] - 2s 1ms/step - loss: 0.0014 - val_loss: 0.0011\n",
      "Epoch 67/100\n",
      "1152/1152 [==============================] - 2s 1ms/step - loss: 0.0013 - val_loss: 0.0020\n",
      "Epoch 68/100\n",
      "1152/1152 [==============================] - 2s 1ms/step - loss: 0.0014 - val_loss: 0.0037\n",
      "Epoch 69/100\n",
      "1152/1152 [==============================] - 2s 2ms/step - loss: 0.0013 - val_loss: 0.0017\n",
      "Epoch 70/100\n",
      "1152/1152 [==============================] - 2s 2ms/step - loss: 0.0016 - val_loss: 0.0011\n",
      "Epoch 71/100\n",
      "1152/1152 [==============================] - 2s 1ms/step - loss: 0.0013 - val_loss: 9.8250e-04\n",
      "Epoch 72/100\n",
      "1152/1152 [==============================] - 2s 1ms/step - loss: 0.0014 - val_loss: 0.0013\n",
      "Epoch 73/100\n",
      "1152/1152 [==============================] - 2s 2ms/step - loss: 0.0013 - val_loss: 0.0019\n",
      "Epoch 74/100\n",
      "1152/1152 [==============================] - 2s 1ms/step - loss: 0.0012 - val_loss: 0.0013\n",
      "Epoch 75/100\n",
      "1152/1152 [==============================] - 2s 1ms/step - loss: 0.0013 - val_loss: 0.0042\n",
      "Epoch 76/100\n",
      "1152/1152 [==============================] - 2s 2ms/step - loss: 0.0013 - val_loss: 8.6800e-04\n",
      "Epoch 77/100\n",
      "1152/1152 [==============================] - 2s 2ms/step - loss: 0.0013 - val_loss: 9.6203e-04\n",
      "Epoch 78/100\n",
      "1152/1152 [==============================] - 2s 2ms/step - loss: 0.0013 - val_loss: 0.0041\n",
      "Epoch 79/100\n"
     ]
    },
    {
     "name": "stdout",
     "output_type": "stream",
     "text": [
      "1152/1152 [==============================] - 2s 2ms/step - loss: 0.0014 - val_loss: 0.0014\n",
      "Epoch 80/100\n",
      "1152/1152 [==============================] - 2s 2ms/step - loss: 0.0012 - val_loss: 0.0019\n",
      "Epoch 81/100\n",
      "1152/1152 [==============================] - 2s 1ms/step - loss: 0.0012 - val_loss: 8.8380e-04\n",
      "Epoch 82/100\n",
      "1152/1152 [==============================] - 2s 1ms/step - loss: 0.0012 - val_loss: 8.4157e-04\n",
      "Epoch 83/100\n",
      "1152/1152 [==============================] - 2s 2ms/step - loss: 0.0012 - val_loss: 7.9393e-04\n",
      "Epoch 84/100\n",
      "1152/1152 [==============================] - 2s 1ms/step - loss: 0.0012 - val_loss: 7.4892e-04\n",
      "Epoch 85/100\n",
      "1152/1152 [==============================] - 2s 1ms/step - loss: 0.0011 - val_loss: 7.2800e-04\n",
      "Epoch 86/100\n",
      "1152/1152 [==============================] - 2s 1ms/step - loss: 0.0011 - val_loss: 7.5232e-04\n",
      "Epoch 87/100\n",
      "1152/1152 [==============================] - 2s 2ms/step - loss: 0.0013 - val_loss: 0.0014\n",
      "Epoch 88/100\n",
      "1152/1152 [==============================] - 2s 1ms/step - loss: 0.0011 - val_loss: 0.0010\n",
      "Epoch 89/100\n",
      "1152/1152 [==============================] - 2s 1ms/step - loss: 0.0010 - val_loss: 7.4431e-04\n",
      "Epoch 90/100\n",
      "1152/1152 [==============================] - 2s 1ms/step - loss: 0.0011 - val_loss: 6.8225e-04\n",
      "Epoch 91/100\n",
      "1152/1152 [==============================] - 2s 1ms/step - loss: 0.0011 - val_loss: 0.0023\n",
      "Epoch 92/100\n",
      "1152/1152 [==============================] - 2s 1ms/step - loss: 0.0011 - val_loss: 7.2422e-04\n",
      "Epoch 93/100\n",
      "1152/1152 [==============================] - 2s 1ms/step - loss: 0.0010 - val_loss: 7.7453e-04\n",
      "Epoch 94/100\n",
      "1152/1152 [==============================] - 2s 1ms/step - loss: 9.6994e-04 - val_loss: 0.0013\n",
      "Epoch 95/100\n",
      "1152/1152 [==============================] - 2s 2ms/step - loss: 0.0011 - val_loss: 0.0024\n",
      "Epoch 96/100\n",
      "1152/1152 [==============================] - 2s 2ms/step - loss: 0.0010 - val_loss: 0.0019\n",
      "Epoch 97/100\n",
      "1152/1152 [==============================] - 2s 2ms/step - loss: 0.0010 - val_loss: 6.7442e-04\n",
      "Epoch 98/100\n",
      "1152/1152 [==============================] - 2s 2ms/step - loss: 9.7952e-04 - val_loss: 6.4960e-04\n",
      "Epoch 99/100\n",
      "1152/1152 [==============================] - 2s 2ms/step - loss: 9.8008e-04 - val_loss: 0.0022\n",
      "Epoch 100/100\n",
      "1152/1152 [==============================] - 2s 1ms/step - loss: 0.0012 - val_loss: 6.5681e-04\n"
     ]
    },
    {
     "data": {
      "text/plain": [
       "<keras.callbacks.callbacks.History at 0x7fda1c2bef28>"
      ]
     },
     "execution_count": 28,
     "metadata": {},
     "output_type": "execute_result"
    }
   ],
   "source": [
    "model.fit(features_set, labels, epochs = 100, batch_size = 32,validation_split=0.04)"
   ]
  },
  {
   "cell_type": "markdown",
   "metadata": {},
   "source": [
    "# Testing our LSTM"
   ]
  },
  {
   "cell_type": "markdown",
   "metadata": {},
   "source": [
    "We have successfully trained our LSTM, now is the time to test the performance of our algorithm on the test set by predicting the opening stock prices for the month of January 2018. However, as we did with the training data, we need to convert our test data in the right format."
   ]
  },
  {
   "cell_type": "code",
   "execution_count": 29,
   "metadata": {},
   "outputs": [],
   "source": [
    "apple_testing_processed=apple_testing_dataJan2018.iloc[:, 1:2].values\n"
   ]
  },
  {
   "cell_type": "code",
   "execution_count": 30,
   "metadata": {},
   "outputs": [
    {
     "data": {
      "image/png": "[encoded data removed]",
      "text/plain": [
       "<Figure size 648x432 with 1 Axes>"
      ]
     },
     "metadata": {
      "needs_background": "light"
     },
     "output_type": "display_data"
    }
   ],
   "source": [
    "plt.figure(figsize=(9,6))\n",
    "plt.plot(apple_testing_processed,'*-k')\n",
    "plt.show()"
   ]
  },
  {
   "cell_type": "markdown",
   "metadata": {},
   "source": [
    "You can see that the trend is highly non-linear. Overall, the stock prices see small rise at the start of the month followed by a downward trend at the end of the month, with a slight increase and decrease in the stock prices in-between. It is extremely difficult to forecast such a trend. Let's see if the LSTM we trained is actually able to predict such a trend."
   ]
  },
  {
   "cell_type": "markdown",
   "metadata": {},
   "source": [
    "# Converting Test Data to Right Format"
   ]
  },
  {
   "cell_type": "markdown",
   "metadata": {},
   "source": [
    "For each day of January 2018, we want our feature set to contain the opening stock prices for the previous 60 days. For the 1st of January, we need the stock prices for the previous 60 days. To do so, we need to concatenate our training data and test data before preprocessing. Execute the following script to do so:"
   ]
  },
  {
   "cell_type": "code",
   "execution_count": 31,
   "metadata": {},
   "outputs": [],
   "source": [
    "apple_total = pd.concat((apple_training_complete['Open'], apple_testing_dataJan2018['Open']), axis=0)"
   ]
  },
  {
   "cell_type": "code",
   "execution_count": 32,
   "metadata": {},
   "outputs": [
    {
     "data": {
      "text/plain": [
       "(1281,)"
      ]
     },
     "execution_count": 32,
     "metadata": {},
     "output_type": "execute_result"
    }
   ],
   "source": [
    "apple_total.shape"
   ]
  },
  {
   "cell_type": "markdown",
   "metadata": {},
   "source": [
    "Now let's prepare our test inputs. The input for each day should contain the opening stock prices for the previous 60 days. That means we need opening stock prices for the 20 test days for the month of January 2018 and the 60 stock prices from the last 60 days for the training set. Execute the following script to fetch those 80 values."
   ]
  },
  {
   "cell_type": "code",
   "execution_count": 33,
   "metadata": {},
   "outputs": [],
   "source": [
    "test_inputs = apple_total[len(apple_total) - len(apple_testing_dataJan2018) - 60:].values"
   ]
  },
  {
   "cell_type": "code",
   "execution_count": 34,
   "metadata": {},
   "outputs": [
    {
     "data": {
      "text/plain": [
       "81"
      ]
     },
     "execution_count": 34,
     "metadata": {},
     "output_type": "execute_result"
    }
   ],
   "source": [
    "len(test_inputs)"
   ]
  },
  {
   "cell_type": "markdown",
   "metadata": {},
   "source": [
    "As we did for the training set, we need to scale our test data. Execute the following script:"
   ]
  },
  {
   "cell_type": "code",
   "execution_count": 35,
   "metadata": {},
   "outputs": [],
   "source": [
    "test_inputs = test_inputs.reshape(-1,1)\n",
    "test_inputs = scaler.transform(test_inputs)"
   ]
  },
  {
   "cell_type": "code",
   "execution_count": 36,
   "metadata": {},
   "outputs": [
    {
     "data": {
      "text/plain": [
       "81"
      ]
     },
     "execution_count": 36,
     "metadata": {},
     "output_type": "execute_result"
    }
   ],
   "source": [
    "len(test_inputs)"
   ]
  },
  {
   "cell_type": "code",
   "execution_count": 37,
   "metadata": {},
   "outputs": [
    {
     "data": {
      "image/png": "[encoded data removed]",
      "text/plain": [
       "<Figure size 432x288 with 1 Axes>"
      ]
     },
     "metadata": {
      "needs_background": "light"
     },
     "output_type": "display_data"
    }
   ],
   "source": [
    "plt.plot(test_inputs)\n",
    "plt.show()"
   ]
  },
  {
   "cell_type": "markdown",
   "metadata": {},
   "source": [
    "We scaled our data, now let's prepare our final test input set that will contain previous 60 stock prices for the month of January. Execute the following script:"
   ]
  },
  {
   "cell_type": "code",
   "execution_count": 38,
   "metadata": {},
   "outputs": [],
   "source": [
    "test_features = []\n",
    "for i in range(60, 80):\n",
    "    test_features.append(test_inputs[i-60:i, 0])"
   ]
  },
  {
   "cell_type": "code",
   "execution_count": 39,
   "metadata": {},
   "outputs": [
    {
     "data": {
      "text/plain": [
       "(20, 60)"
      ]
     },
     "execution_count": 39,
     "metadata": {},
     "output_type": "execute_result"
    }
   ],
   "source": [
    "np.shape(test_features)"
   ]
  },
  {
   "cell_type": "markdown",
   "metadata": {},
   "source": [
    "Finally, we need to convert our data into the three-dimensional format which can be used as input to the LSTM. Execute the following script:"
   ]
  },
  {
   "cell_type": "code",
   "execution_count": 40,
   "metadata": {},
   "outputs": [],
   "source": [
    "test_features = np.array(test_features)\n",
    "test_features = np.reshape(test_features, (test_features.shape[0], test_features.shape[1], 1))"
   ]
  },
  {
   "cell_type": "code",
   "execution_count": 41,
   "metadata": {},
   "outputs": [
    {
     "data": {
      "text/plain": [
       "(20, 60, 1)"
      ]
     },
     "execution_count": 41,
     "metadata": {},
     "output_type": "execute_result"
    }
   ],
   "source": [
    "np.shape(test_features)"
   ]
  },
  {
   "cell_type": "markdown",
   "metadata": {},
   "source": [
    "# Making Predictions"
   ]
  },
  {
   "cell_type": "markdown",
   "metadata": {},
   "source": [
    "Now is the time to see the magic. We preprocessed our test data and now we can use it to make predictions. To do so, we simply need to call the predict method on the model that we trained. \n",
    "Execute the following script:"
   ]
  },
  {
   "cell_type": "code",
   "execution_count": 42,
   "metadata": {},
   "outputs": [],
   "source": [
    "predictions = model.predict(test_features)"
   ]
  },
  {
   "cell_type": "markdown",
   "metadata": {},
   "source": [
    "Since we scaled our data, the predictions made by the LSTM are also scaled. We need to reverse the scaled prediction back to their actual values. To do so, we can use the ìnverse_transform method of the scaler object we created during training. \n",
    "Take a look at the following script:"
   ]
  },
  {
   "cell_type": "code",
   "execution_count": 43,
   "metadata": {},
   "outputs": [],
   "source": [
    "predictions = scaler.inverse_transform(predictions)"
   ]
  },
  {
   "cell_type": "markdown",
   "metadata": {},
   "source": [
    "Finally, let's see how well did our algorithm predicted the future stock prices. Execute the following script:"
   ]
  },
  {
   "cell_type": "code",
   "execution_count": 46,
   "metadata": {},
   "outputs": [
    {
     "data": {
      "image/png": "[encoded data removed]",
      "text/plain": [
       "<Figure size 720x432 with 1 Axes>"
      ]
     },
     "metadata": {
      "needs_background": "light"
     },
     "output_type": "display_data"
    }
   ],
   "source": [
    "plt.figure(figsize=(10,6))\n",
    "plt.plot(apple_testing_processed, color='blue', label='Actual Apple Stock Price')\n",
    "plt.plot(predictions , color='red', label='Predicted Apple Stock Price')\n",
    "plt.title('Apple Stock Price Prediction')\n",
    "plt.xlabel('Date')\n",
    "plt.ylabel('Apple Stock Price')\n",
    "plt.legend()\n",
    "plt.savefig('AppleStock.png', facecolor='w', format='png')\n",
    "plt.show()\n"
   ]
  },
  {
   "cell_type": "code",
   "execution_count": null,
   "metadata": {},
   "outputs": [],
   "source": [
    "plt.plot(apple_testing_processed-predictions)\n",
    "plt.show()"
   ]
  },
  {
   "cell_type": "code",
   "execution_count": null,
   "metadata": {},
   "outputs": [],
   "source": [
    "np.shape(predictions)"
   ]
  },
  {
   "cell_type": "markdown",
   "metadata": {},
   "source": [
    "The End!!!\\\n",
    "The End!!!\\\n",
    "The End!!!\\\n",
    "The End!!!"
   ]
  },
  {
   "cell_type": "code",
   "execution_count": null,
   "metadata": {},
   "outputs": [],
   "source": [
    "apple_training_complete.info()"
   ]
  },
  {
   "cell_type": "code",
   "execution_count": null,
   "metadata": {},
   "outputs": [],
   "source": [
    "np.shape(predictions)"
   ]
  },
  {
   "cell_type": "code",
   "execution_count": null,
   "metadata": {},
   "outputs": [],
   "source": []
  }
 ],
 "metadata": {
  "kernelspec": {
   "display_name": "Python 3",
   "language": "python",
   "name": "python3"
  },
  "language_info": {
   "codemirror_mode": {
    "name": "ipython",
    "version": 3
   },
   "file_extension": ".py",
   "mimetype": "text/x-python",
   "name": "python",
   "nbconvert_exporter": "python",
   "pygments_lexer": "ipython3",
   "version": "3.6.8"
  }
 },
 "nbformat": 4,
 "nbformat_minor": 2
}
